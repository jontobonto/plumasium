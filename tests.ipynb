{
 "cells": [
  {
   "cell_type": "code",
   "execution_count": 3,
   "id": "e531ddd5",
   "metadata": {},
   "outputs": [
    {
     "data": {
      "text/plain": [
       "{'login': 'acb'}"
      ]
     },
     "execution_count": 3,
     "metadata": {},
     "output_type": "execute_result"
    }
   ],
   "source": [
    "def some_func(*login_names):\n",
    "    return {\"login\": l for l in login_names}\n",
    "\n",
    "some_func(\"twitch_user1\", \"twitch_user2\", \"acb\")"
   ]
  },
  {
   "cell_type": "code",
   "execution_count": null,
   "id": "9470f3a7",
   "metadata": {},
   "outputs": [
    {
     "data": {
      "text/plain": [
       "'twitch_user1'"
      ]
     },
     "execution_count": 8,
     "metadata": {},
     "output_type": "execute_result"
    }
   ],
   "source": [
    "from multidict import MultiDict\n",
    "\n",
    "def get_logins(*login_names):\n",
    "    # Jeder login_name soll ein eigener 'login'-Key sein\n",
    "    md = MultiDict()\n",
    "    for name in login_names:\n",
    "        md.add('login', name)\n",
    "    return md\n",
    "\n",
    "x = get_logins(\"twitch_user1\", \"twitch_user2\", \"acb\")\n"
   ]
  }
 ],
 "metadata": {
  "kernelspec": {
   "display_name": ".venv",
   "language": "python",
   "name": "python3"
  },
  "language_info": {
   "codemirror_mode": {
    "name": "ipython",
    "version": 3
   },
   "file_extension": ".py",
   "mimetype": "text/x-python",
   "name": "python",
   "nbconvert_exporter": "python",
   "pygments_lexer": "ipython3",
   "version": "3.11.6"
  }
 },
 "nbformat": 4,
 "nbformat_minor": 5
}
